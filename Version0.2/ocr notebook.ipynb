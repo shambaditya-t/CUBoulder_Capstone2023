{
 "cells": [
  {
   "cell_type": "code",
   "execution_count": 52,
   "id": "27dac84b",
   "metadata": {},
   "outputs": [],
   "source": [
    "import pytesseract\n",
    "import cv2\n",
    "import matplotlib.pyplot as plt\n",
    "import numpy as np"
   ]
  },
  {
   "cell_type": "code",
   "execution_count": 53,
   "id": "2dacafea",
   "metadata": {},
   "outputs": [],
   "source": [
    "pytesseract.pytesseract.tesseract_cmd = r'C:\\Program Files\\Tesseract-OCR\\tesseract.exe'\n",
    "\n",
    "inverse = True\n",
    "remove_noise = True\n",
    "\n",
    "thin = True\n",
    "thin_intensity = 2\n",
    "\n",
    "thick = False\n",
    "thick_intensity = 3\n",
    "\n",
    "#Binarization\n",
    "def grayscale(image):\n",
    "    return cv2.cvtColor(image, cv2.COLOR_BGR2GRAY)\n",
    "\n",
    "#Noise Removal\n",
    "def noise_removal(image):\n",
    "    kernel = np.ones((1, 1), np.uint8)\n",
    "    image = cv2.dilate(image, kernel, iterations=1)\n",
    "    kernel = np.ones((1, 1), np.uint8)\n",
    "    image = cv2.erode(image, kernel, iterations=1)\n",
    "    image = cv2.morphologyEx(image, cv2.MORPH_CLOSE, kernel)\n",
    "    image = cv2.medianBlur(image, 3)\n",
    "    return (image)\n",
    "\n",
    "#Font Thinning\n",
    "def thin_font(image):\n",
    "    image = cv2.bitwise_not(image)\n",
    "    kernel = np.ones((2,2),np.uint8)\n",
    "    image = cv2.erode(image, kernel, iterations=thin_intensity)\n",
    "    image = cv2.bitwise_not(image)\n",
    "    return (image)\n",
    "\n",
    "#Font Thicking\n",
    "def thick_font(image):\n",
    "    image = cv2.bitwise_not(image)\n",
    "    kernel = np.ones((2,2),np.uint8)\n",
    "    image = cv2.dilate(image, kernel, iterations=thick_intensity)\n",
    "    image = cv2.bitwise_not(image)\n",
    "    return (image)\n"
   ]
  },
  {
   "cell_type": "code",
   "execution_count": 54,
   "id": "e1cda368",
   "metadata": {},
   "outputs": [
    {
     "name": "stdout",
     "output_type": "stream",
     "text": [
      "7A\n",
      "\n",
      "9A\n",
      "\n",
      "Lo\n",
      "\n"
     ]
    },
    {
     "data": {
      "image/png": "[encoded data removed]",
      "text/plain": [
       "<Figure size 640x480 with 1 Axes>"
      ]
     },
     "metadata": {},
     "output_type": "display_data"
    }
   ],
   "source": [
    "img = cv2.imread('Images/rotated_test.jpg')\n",
    "img = grayscale(img)\n",
    "\n",
    "if inverse:\n",
    "    thresh, img = cv2.threshold(img, 210, 230, cv2.THRESH_BINARY_INV)\n",
    "else:\n",
    "    thresh, img = cv2.threshold(img, 210, 230, cv2.THRESH_BINARY)\n",
    "\n",
    "if remove_noise:\n",
    "    img = noise_removal(img)\n",
    "    \n",
    "if thin:\n",
    "    img = thin_font(img)\n",
    "    \n",
    "if thick:\n",
    "    img = thick_font(img)\n",
    "    \n",
    "plt.imshow(img,cmap='gray')\n",
    "    \n",
    "text = pytesseract.image_to_string(img)\n",
    "print(text)"
   ]
  }
 ],
 "metadata": {
  "kernelspec": {
   "display_name": "Python 3 (ipykernel)",
   "language": "python",
   "name": "python3"
  },
  "language_info": {
   "codemirror_mode": {
    "name": "ipython",
    "version": 3
   },
   "file_extension": ".py",
   "mimetype": "text/x-python",
   "name": "python",
   "nbconvert_exporter": "python",
   "pygments_lexer": "ipython3",
   "version": "3.8.0"
  }
 },
 "nbformat": 4,
 "nbformat_minor": 5
}
